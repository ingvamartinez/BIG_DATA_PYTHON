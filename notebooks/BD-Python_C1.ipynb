{
 "cells": [
  {
   "attachments": {},
   "cell_type": "markdown",
   "metadata": {},
   "source": [
    "# Capitulo uno - BIG DATA CON PYTHON"
   ]
  },
  {
   "attachments": {},
   "cell_type": "markdown",
   "metadata": {},
   "source": [
    "##### data from\n",
    "https://datos.gob.es/es/catalogo/l01280066-subvenciones-2016-asociaciones-ambito-educativo1"
   ]
  }
 ],
 "metadata": {
  "kernelspec": {
   "display_name": "Python 3",
   "language": "python",
   "name": "python3"
  },
  "language_info": {
   "name": "python",
   "version": "3.10.9"
  },
  "orig_nbformat": 4,
  "vscode": {
   "interpreter": {
    "hash": "c0e9d565ec43de7db7f01f8234505eb34ad92dda26447801953c4c7f24bcb69c"
   }
  }
 },
 "nbformat": 4,
 "nbformat_minor": 2
}
