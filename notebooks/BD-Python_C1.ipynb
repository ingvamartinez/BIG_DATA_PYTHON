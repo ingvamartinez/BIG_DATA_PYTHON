{
 "cells": [
  {
   "attachments": {},
   "cell_type": "markdown",
   "metadata": {},
   "source": [
    "# Capitulo uno - BIG DATA CON PYTHON"
   ]
  },
  {
   "attachments": {},
   "cell_type": "markdown",
   "metadata": {},
   "source": [
    "##### Obtenemos la data\n",
    "https://datos.gob.es/es/catalogo/l01280066-subvenciones-2016-asociaciones-ambito-educativo1"
   ]
  },
  {
   "cell_type": "code",
   "execution_count": 37,
   "metadata": {},
   "outputs": [],
   "source": [
    "import os\n",
    "from pathlib import Path\n",
    "import csv\n",
    "filename=\"subvenciones-educacion2016.csv\""
   ]
  },
  {
   "cell_type": "code",
   "execution_count": 38,
   "metadata": {},
   "outputs": [
    {
     "data": {
      "text/plain": [
       "'C:\\\\Users\\\\ADRIA\\\\OneDrive\\\\Documentos\\\\Kucta_BIGDATA\\\\BD-Python\\\\data\\\\raw\\\\subvenciones-educacion2016.csv'"
      ]
     },
     "execution_count": 38,
     "metadata": {},
     "output_type": "execute_result"
    }
   ],
   "source": [
    "root_dir=Path(\".\").resolve().parent\n",
    "pathfile=os.path.join(root_dir,'data','raw',filename)\n",
    "pathfile"
   ]
  },
  {
   "attachments": {},
   "cell_type": "markdown",
   "metadata": {},
   "source": [
    "#### Abrimos el archivo con with y la funcion open, y llamamos reader de la libreria csv"
   ]
  },
  {
   "cell_type": "code",
   "execution_count": 39,
   "metadata": {},
   "outputs": [
    {
     "name": "stdout",
     "output_type": "stream",
     "text": [
      "64442.9\n"
     ]
    },
    {
     "data": {
      "text/plain": [
       "64442.9"
      ]
     },
     "execution_count": 39,
     "metadata": {},
     "output_type": "execute_result"
    }
   ],
   "source": [
    "with open(pathfile, encoding='latin1') as fichero_csv:\n",
    "    lector=csv.reader(fichero_csv)\n",
    "    next(lector,None) # se salta la primera fila\n",
    "    importe_total=0\n",
    "    for linea in lector:\n",
    "        importe_str=linea[2]\n",
    "        importe=float(importe_str)\n",
    "        importe_total= importe_total + importe\n",
    "    print(importe_total)\n",
    "importe_total"
   ]
  },
  {
   "attachments": {},
   "cell_type": "markdown",
   "metadata": {},
   "source": [
    "#### Pero es mejor usar DictReader, que maneja el archivo como diccionarios"
   ]
  },
  {
   "cell_type": "code",
   "execution_count": 40,
   "metadata": {},
   "outputs": [
    {
     "name": "stdout",
     "output_type": "stream",
     "text": [
      "{'ASOC PADRES Y MADRES ESC I \"EL CUQUILLO\"': 1075.0, 'AMPA CEIP PUBLICO ANTONIO MACHADO ALCOBE': 2480.4, 'ASOC CATOLICA PAD Y MAD DEL PADRE MANYAN': 2389.25, 'AMPA CEIP LUIS BUÃ\\x91UEL DE ALCOBENDAS': 2990.0, 'AMPA COL PUB FEDERICO GARCIA LORCA ALCOBENDAS': 3050.11, 'APA DEL COL NAL EMILIO CASADO': 3355.12, 'AMPA DEL CEIP DAOIZ Y VELARDE DE ALCOBEN': 3558.46, 'APA C P VALDEPALITOS DE ALCOBENDAS': 4371.82, 'A.M.P.A. C.P. BACHILLER ALONSO LOPEZ': 2000.0, 'AMPA C.E.I.P. MIGUEL HERNANDEZ': 3507.63, 'AMPA DEL COLEGIO PUBLICO PARQUE CATALUÃ\\x91A': 2897.6, 'AMPA DEL COLEGIO PUBLICO MIRAFLORES': 2950.0, 'AMPA I.E.S. AGORA': 2694.26, 'APAESCUELA INFANTIL VALDELAPARRA ALCOBE': 1075.0, 'AMPA DEL IES ALDEBARAN DE ALCOBENDAS': 3304.28, 'ASOC MADRES Y PADRES ALUMNOS CP SEIS DIC': 3558.46, 'ASOC -AMPA- DE GREENWICH SCHOOL': 2541.76, 'AMPA DEL I.E.S. GINER DE LOS RIOS ALCOBE': 3887.0, 'FEDERACION DE ASOCIACIONES DE PADRES DE ALUMNOS DE': 3405.95, 'AMPA COLEGIO SAN ANTONIO DE ALCOBENDAS': 2300.0, 'ASOC PADRES ALUMNADO COL JUAN XXIII ALCO': 1474.22, 'APA IES SEVERO OCHOA': 3863.47, 'AMPA ESCUELA INFANTIL LA CHOPERA': 1713.11}\n"
     ]
    }
   ],
   "source": [
    "with open(pathfile, encoding='Latin-1') as fichero_csv:\n",
    "    dict_lector=csv.DictReader(fichero_csv)#,fieldnames=['Asociación','Actividad','Importe'])\n",
    "    asocs={}\n",
    "    for linea in dict_lector:\n",
    "        centro = linea[\"ASOCIACION\"]\n",
    "        subvencion = float(linea[\"SUBVENCION EN EUROS\"])\n",
    "        if centro in asocs:\n",
    "            asocs[centro] = asocs[centro] + subvencion\n",
    "        else:\n",
    "            asocs[centro] = subvencion\n",
    "    print(asocs)\n"
   ]
  },
  {
   "attachments": {},
   "cell_type": "markdown",
   "metadata": {},
   "source": [
    "#### escribir y guardar el archivo CSV"
   ]
  },
  {
   "cell_type": "code",
   "execution_count": 41,
   "metadata": {},
   "outputs": [
    {
     "data": {
      "text/plain": [
       "<csv.DictWriter at 0x2232aab6aa0>"
      ]
     },
     "execution_count": 41,
     "metadata": {},
     "output_type": "execute_result"
    }
   ],
   "source": [
    "ruta1 = pathfile\n",
    "ruta2 = os.path.join(root_dir,\"data\",\"raw\",\"subvenciones_esc.csv\")\n",
    "with open(ruta1, encoding='latin1') as fich_lect , open(ruta2,'w', encoding='latin1') as fich_escr:\n",
    "    dict_lector1 = csv.DictReader(fich_lect,fieldnames=['Asociacion','Actividad','Importe'])\n",
    "    next(dict_lector1, None)\n",
    "    campos = dict_lector1.fieldnames + ['Justificacion Requerida','Justificacion Recibida']\n",
    "    escritor = csv.DictWriter(fich_escr,fieldnames=campos)\n",
    "    escritor.writeheader()\n",
    "    for linea in dict_lector1:\n",
    "        \n",
    "            if float(linea['Importe']) > 300:\n",
    "                linea['Justificacion Requerida']= 'Si'\n",
    "            else: \n",
    "                linea['Justificacion Requerida']= 'No'\n",
    "            linea['Justificacion Recibida'] ='No'\n",
    "        \n",
    "           \n",
    "    escritor.writerow(linea)\n",
    "escritor"
   ]
  },
  {
   "attachments": {},
   "cell_type": "markdown",
   "metadata": {},
   "source": [
    "## Lectura de XLS"
   ]
  },
  {
   "cell_type": "code",
   "execution_count": 42,
   "metadata": {},
   "outputs": [],
   "source": [
    "#Librerias Necesaria\n",
    "import xlrd\n",
    "import xlwt"
   ]
  },
  {
   "attachments": {},
   "cell_type": "markdown",
   "metadata": {},
   "source": [
    "al igual que con los CSV, utilizaremos with con el open de la libreria xlrd"
   ]
  },
  {
   "cell_type": "code",
   "execution_count": 43,
   "metadata": {},
   "outputs": [
    {
     "name": "stdout",
     "output_type": "stream",
     "text": [
      "dict_keys(['ASOC PADRES Y MADRES ESC I \"EL CUQUILLO\"', 'AMPA CEIP PUBLICO ANTONIO MACHADO ALCOBE', 'ASOC CATOLICA PAD Y MAD DEL PADRE MANYAN', 'AMPA CEIP LUIS BUÑUEL DE ALCOBENDAS', 'AMPA COL PUB FEDERICO GARCIA LORCA ALCOBENDAS', 'APA DEL COL NAL EMILIO CASADO', 'AMPA DEL CEIP DAOIZ Y VELARDE DE ALCOBEN', 'APA C P VALDEPALITOS DE ALCOBENDAS', 'A.M.P.A. C.P. BACHILLER ALONSO LOPEZ', 'AMPA C.E.I.P. MIGUEL HERNANDEZ', 'AMPA DEL COLEGIO PUBLICO PARQUE CATALUÑA', 'AMPA DEL COLEGIO PUBLICO MIRAFLORES', 'AMPA I.E.S. AGORA', 'APAESCUELA INFANTIL VALDELAPARRA ALCOBE', 'AMPA DEL IES ALDEBARAN DE ALCOBENDAS', 'ASOC MADRES Y PADRES ALUMNOS CP SEIS DIC', 'ASOC -AMPA- DE GREENWICH SCHOOL', 'AMPA DEL I.E.S. GINER DE LOS RIOS ALCOBE', 'FEDERACION DE ASOCIACIONES DE PADRES DE ALUMNOS DE', 'AMPA COLEGIO SAN ANTONIO DE ALCOBENDAS', 'ASOC PADRES ALUMNADO COL JUAN XXIII ALCO', 'APA IES SEVERO OCHOA', 'AMPA ESCUELA INFANTIL LA CHOPERA'])\n",
      "dict_values([1075.0, 2480.4, 2389.25, 2990.0, 3050.11, 3355.12, 3558.46, 4371.82, 2000.0, 3507.63, 2897.6, 2950.0, 2694.26, 1075.0, 3304.28, 3558.46, 2541.76, 3887.0, 3405.95, 2300.0, 1474.22, 3863.47, 1713.11])\n"
     ]
    }
   ],
   "source": [
    "with xlrd.open_workbook(os.path.join(root_dir,'data','raw','subvenciones.xls')) as libro:\n",
    "    asocs ={}\n",
    "    for hoja in libro.sheets():\n",
    "        for i in range(1,hoja.nrows):\n",
    "            fila = hoja.row(i)\n",
    "            asoc = fila[0].value\n",
    "            subvencion = fila[2].value\n",
    "            if asoc in asocs:\n",
    "                asocs[asoc]= asocs[asoc] + subvencion\n",
    "            else:\n",
    "                asocs[asoc] = subvencion\n",
    "print(asocs.keys())\n",
    "print(asocs.values())\n",
    "\n"
   ]
  },
  {
   "cell_type": "code",
   "execution_count": 44,
   "metadata": {},
   "outputs": [
    {
     "name": "stdout",
     "output_type": "stream",
     "text": [
      "Asociaciones:  dict_keys(['ASOC PADRES Y MADRES ESC I \"EL CUQUILLO\"', 'AMPA CEIP PUBLICO ANTONIO MACHADO ALCOBE', 'ASOC CATOLICA PAD Y MAD DEL PADRE MANYAN', 'AMPA CEIP LUIS BUÑUEL DE ALCOBENDAS', 'AMPA COL PUB FEDERICO GARCIA LORCA ALCOBENDAS', 'APA DEL COL NAL EMILIO CASADO', 'AMPA DEL CEIP DAOIZ Y VELARDE DE ALCOBEN', 'APA C P VALDEPALITOS DE ALCOBENDAS', 'A.M.P.A. C.P. BACHILLER ALONSO LOPEZ', 'AMPA C.E.I.P. MIGUEL HERNANDEZ', 'AMPA DEL COLEGIO PUBLICO PARQUE CATALUÑA', 'AMPA DEL COLEGIO PUBLICO MIRAFLORES', 'AMPA I.E.S. AGORA', 'APAESCUELA INFANTIL VALDELAPARRA ALCOBE', 'AMPA DEL IES ALDEBARAN DE ALCOBENDAS', 'ASOC MADRES Y PADRES ALUMNOS CP SEIS DIC', 'ASOC -AMPA- DE GREENWICH SCHOOL', 'AMPA DEL I.E.S. GINER DE LOS RIOS ALCOBE', 'FEDERACION DE ASOCIACIONES DE PADRES DE ALUMNOS DE', 'AMPA COLEGIO SAN ANTONIO DE ALCOBENDAS', 'ASOC PADRES ALUMNADO COL JUAN XXIII ALCO', 'APA IES SEVERO OCHOA', 'AMPA ESCUELA INFANTIL LA CHOPERA'])\n",
      "Subvenciones:  dict_values([1075.0, 2480.4, 2389.25, 2990.0, 3050.11, 3355.12, 3558.46, 4371.82, 2000.0, 3507.63, 2897.6, 2950.0, 2694.26, 1075.0, 3304.28, 3558.46, 2541.76, 3887.0, 3405.95, 2300.0, 1474.22, 3863.47, 1713.11])\n"
     ]
    }
   ],
   "source": [
    "with xlrd.open_workbook(os.path.join(root_dir,'data','raw','subvenciones.xls')) as libro_lect:\n",
    "    asocs = {}\n",
    "    libro_escr = xlwt.Workbook()\n",
    "    for nombre in libro_lect.sheet_names():\n",
    "    # se crea una hoja se lee la y se agrega en el libro escritura la informacion que se va a leer\n",
    "        hoja_lect = libro_lect.sheet_by_name(nombre)\n",
    "        hoja_escr = libro_escr.add_sheet(nombre)\n",
    "        for i in range(hoja_lect.nrows):\n",
    "            for j in range(hoja_lect.ncols):\n",
    "                valor = hoja_lect.cell(i,j).value\n",
    "                hoja_escr.write(i,j,valor)\n",
    "            if i!= 0:\n",
    "                fila = hoja_lect.row(i)\n",
    "                centro = fila[0].value\n",
    "                sub = fila[2].value\n",
    "                if centro in asocs:\n",
    "                     asocs[centro] = asocs[centro] + sub\n",
    "                else:\n",
    "                     asocs[centro] = sub\n",
    "print('Asociaciones: ',asocs.keys())\n",
    "print('Subvenciones: ',asocs.values())\n"
   ]
  },
  {
   "cell_type": "code",
   "execution_count": 45,
   "metadata": {},
   "outputs": [],
   "source": [
    "# se escribira en la segunda hoja\n",
    "hoja_escr = libro_escr.add_sheet('Totales')\n",
    "hoja_escr.write(0, 0, \"Asociaciones\")\n",
    "hoja_escr.write(0, 1, \"Importe total\")\n",
    "hoja_escr.write(0, 2, \"Importe Justificado\")\n",
    "hoja_escr.write(0, 3, \"Restante\")\n"
   ]
  },
  {
   "cell_type": "code",
   "execution_count": 46,
   "metadata": {},
   "outputs": [],
   "source": [
    "#recorreremos la hoja con indice, el diccionario. como ya se escribio la cabecera se debe sumar 1 al indice\n",
    "for i, clave in enumerate(asocs):\n",
    "    fila = i + 1\n",
    "    hoja_escr.write(fila, 0, clave)\n",
    "    hoja_escr.write(fila, 1, asocs[clave])\n",
    "    hoja_escr.write(fila, 2, 0)\n",
    "    #fia de la formula\n",
    "    fila_form = i + 2\n",
    "    fform_str = str(fila_form)\n",
    "    form = \"C\" + fform_str + \"-B\" + fform_str\n",
    "    hoja_escr.write(fila,3,xlwt.Formula(form))\n",
    "    "
   ]
  },
  {
   "cell_type": "code",
   "execution_count": 47,
   "metadata": {},
   "outputs": [],
   "source": [
    "#Guardamos el libro\n",
    "libro_escr.save(os.path.join(root_dir,'data','raw','Libro_Resultado.xls'))"
   ]
  }
 ],
 "metadata": {
  "kernelspec": {
   "display_name": "Python 3",
   "language": "python",
   "name": "python3"
  },
  "language_info": {
   "codemirror_mode": {
    "name": "ipython",
    "version": 3
   },
   "file_extension": ".py",
   "mimetype": "text/x-python",
   "name": "python",
   "nbconvert_exporter": "python",
   "pygments_lexer": "ipython3",
   "version": "3.10.11"
  },
  "orig_nbformat": 4,
  "vscode": {
   "interpreter": {
    "hash": "c0e9d565ec43de7db7f01f8234505eb34ad92dda26447801953c4c7f24bcb69c"
   }
  }
 },
 "nbformat": 4,
 "nbformat_minor": 2
}
