{
 "cells": [
  {
   "attachments": {},
   "cell_type": "markdown",
   "metadata": {},
   "source": [
    "# Capitulo uno - BIG DATA CON PYTHON"
   ]
  },
  {
   "attachments": {},
   "cell_type": "markdown",
   "metadata": {},
   "source": [
    "##### Obtenemos la data\n",
    "https://datos.gob.es/es/catalogo/l01280066-subvenciones-2016-asociaciones-ambito-educativo1"
   ]
  },
  {
   "attachments": {},
   "cell_type": "markdown",
   "metadata": {},
   "source": [
    "## Manipulacion CSV"
   ]
  },
  {
   "cell_type": "code",
   "execution_count": 67,
   "metadata": {},
   "outputs": [],
   "source": [
    "import os\n",
    "from pathlib import Path\n",
    "import csv\n",
    "filename=\"subvenciones-educacion2016.csv\""
   ]
  },
  {
   "cell_type": "code",
   "execution_count": 68,
   "metadata": {},
   "outputs": [
    {
     "data": {
      "text/plain": [
       "'C:\\\\Users\\\\ADRIA\\\\OneDrive\\\\Documentos\\\\Kucta_BIGDATA\\\\BD-Python\\\\data\\\\raw\\\\subvenciones-educacion2016.csv'"
      ]
     },
     "execution_count": 68,
     "metadata": {},
     "output_type": "execute_result"
    }
   ],
   "source": [
    "root_dir=Path(\".\").resolve().parent\n",
    "pathfile=os.path.join(root_dir,'data','raw',filename)\n",
    "pathfile"
   ]
  },
  {
   "attachments": {},
   "cell_type": "markdown",
   "metadata": {},
   "source": [
    "#### Abrimos el archivo con with y la funcion open, y llamamos reader de la libreria csv"
   ]
  },
  {
   "cell_type": "code",
   "execution_count": 69,
   "metadata": {},
   "outputs": [
    {
     "name": "stdout",
     "output_type": "stream",
     "text": [
      "64442.9\n"
     ]
    },
    {
     "data": {
      "text/plain": [
       "64442.9"
      ]
     },
     "execution_count": 69,
     "metadata": {},
     "output_type": "execute_result"
    }
   ],
   "source": [
    "with open(pathfile, encoding='latin1') as fichero_csv:\n",
    "    lector=csv.reader(fichero_csv)\n",
    "    next(lector,None) # se salta la primera fila\n",
    "    importe_total=0\n",
    "    for linea in lector:\n",
    "        importe_str=linea[2]\n",
    "        importe=float(importe_str)\n",
    "        importe_total= importe_total + importe\n",
    "    print(importe_total)\n",
    "importe_total"
   ]
  },
  {
   "attachments": {},
   "cell_type": "markdown",
   "metadata": {},
   "source": [
    "#### Pero es mejor usar DictReader, que maneja el archivo como diccionarios"
   ]
  },
  {
   "cell_type": "code",
   "execution_count": 70,
   "metadata": {},
   "outputs": [
    {
     "name": "stdout",
     "output_type": "stream",
     "text": [
      "{'ASOC PADRES Y MADRES ESC I \"EL CUQUILLO\"': 1075.0, 'AMPA CEIP PUBLICO ANTONIO MACHADO ALCOBE': 2480.4, 'ASOC CATOLICA PAD Y MAD DEL PADRE MANYAN': 2389.25, 'AMPA CEIP LUIS BUÃ\\x91UEL DE ALCOBENDAS': 2990.0, 'AMPA COL PUB FEDERICO GARCIA LORCA ALCOBENDAS': 3050.11, 'APA DEL COL NAL EMILIO CASADO': 3355.12, 'AMPA DEL CEIP DAOIZ Y VELARDE DE ALCOBEN': 3558.46, 'APA C P VALDEPALITOS DE ALCOBENDAS': 4371.82, 'A.M.P.A. C.P. BACHILLER ALONSO LOPEZ': 2000.0, 'AMPA C.E.I.P. MIGUEL HERNANDEZ': 3507.63, 'AMPA DEL COLEGIO PUBLICO PARQUE CATALUÃ\\x91A': 2897.6, 'AMPA DEL COLEGIO PUBLICO MIRAFLORES': 2950.0, 'AMPA I.E.S. AGORA': 2694.26, 'APAESCUELA INFANTIL VALDELAPARRA ALCOBE': 1075.0, 'AMPA DEL IES ALDEBARAN DE ALCOBENDAS': 3304.28, 'ASOC MADRES Y PADRES ALUMNOS CP SEIS DIC': 3558.46, 'ASOC -AMPA- DE GREENWICH SCHOOL': 2541.76, 'AMPA DEL I.E.S. GINER DE LOS RIOS ALCOBE': 3887.0, 'FEDERACION DE ASOCIACIONES DE PADRES DE ALUMNOS DE': 3405.95, 'AMPA COLEGIO SAN ANTONIO DE ALCOBENDAS': 2300.0, 'ASOC PADRES ALUMNADO COL JUAN XXIII ALCO': 1474.22, 'APA IES SEVERO OCHOA': 3863.47, 'AMPA ESCUELA INFANTIL LA CHOPERA': 1713.11}\n"
     ]
    }
   ],
   "source": [
    "with open(pathfile, encoding='Latin-1') as fichero_csv:\n",
    "    dict_lector=csv.DictReader(fichero_csv)#,fieldnames=['Asociación','Actividad','Importe'])\n",
    "    asocs={}\n",
    "    for linea in dict_lector:\n",
    "        centro = linea[\"ASOCIACION\"]\n",
    "        subvencion = float(linea[\"SUBVENCION EN EUROS\"])\n",
    "        if centro in asocs:\n",
    "            asocs[centro] = asocs[centro] + subvencion\n",
    "        else:\n",
    "            asocs[centro] = subvencion\n",
    "    print(asocs)\n"
   ]
  },
  {
   "attachments": {},
   "cell_type": "markdown",
   "metadata": {},
   "source": [
    "#### escribir y guardar el archivo CSV"
   ]
  },
  {
   "cell_type": "code",
   "execution_count": 71,
   "metadata": {},
   "outputs": [
    {
     "data": {
      "text/plain": [
       "<csv.DictWriter at 0x2628adfe350>"
      ]
     },
     "execution_count": 71,
     "metadata": {},
     "output_type": "execute_result"
    }
   ],
   "source": [
    "ruta1 = pathfile\n",
    "ruta2 = os.path.join(root_dir,\"data\",\"raw\",\"subvenciones_esc.csv\")\n",
    "with open(ruta1, encoding='latin1') as fich_lect , open(ruta2,'w', encoding='latin1') as fich_escr:\n",
    "    dict_lector1 = csv.DictReader(fich_lect,fieldnames=['Asociacion','Actividad','Importe'])\n",
    "    next(dict_lector1, None)\n",
    "    campos = dict_lector1.fieldnames + ['Justificacion Requerida','Justificacion Recibida']\n",
    "    escritor = csv.DictWriter(fich_escr,fieldnames=campos)\n",
    "    escritor.writeheader()\n",
    "    for linea in dict_lector1:\n",
    "        \n",
    "            if float(linea['Importe']) > 300:\n",
    "                linea['Justificacion Requerida']= 'Si'\n",
    "            else: \n",
    "                linea['Justificacion Requerida']= 'No'\n",
    "            linea['Justificacion Recibida'] ='No'\n",
    "        \n",
    "           \n",
    "    escritor.writerow(linea)\n",
    "escritor"
   ]
  },
  {
   "attachments": {},
   "cell_type": "markdown",
   "metadata": {},
   "source": [
    "## Manipulacion  XLS"
   ]
  },
  {
   "cell_type": "code",
   "execution_count": 72,
   "metadata": {},
   "outputs": [],
   "source": [
    "#Librerias Necesaria\n",
    "import xlrd\n",
    "import xlwt"
   ]
  },
  {
   "attachments": {},
   "cell_type": "markdown",
   "metadata": {},
   "source": [
    "al igual que con los CSV, utilizaremos with con el open de la libreria xlrd"
   ]
  },
  {
   "cell_type": "code",
   "execution_count": 73,
   "metadata": {},
   "outputs": [
    {
     "name": "stdout",
     "output_type": "stream",
     "text": [
      "dict_keys(['ASOC PADRES Y MADRES ESC I \"EL CUQUILLO\"', 'AMPA CEIP PUBLICO ANTONIO MACHADO ALCOBE', 'ASOC CATOLICA PAD Y MAD DEL PADRE MANYAN', 'AMPA CEIP LUIS BUÑUEL DE ALCOBENDAS', 'AMPA COL PUB FEDERICO GARCIA LORCA ALCOBENDAS', 'APA DEL COL NAL EMILIO CASADO', 'AMPA DEL CEIP DAOIZ Y VELARDE DE ALCOBEN', 'APA C P VALDEPALITOS DE ALCOBENDAS', 'A.M.P.A. C.P. BACHILLER ALONSO LOPEZ', 'AMPA C.E.I.P. MIGUEL HERNANDEZ', 'AMPA DEL COLEGIO PUBLICO PARQUE CATALUÑA', 'AMPA DEL COLEGIO PUBLICO MIRAFLORES', 'AMPA I.E.S. AGORA', 'APAESCUELA INFANTIL VALDELAPARRA ALCOBE', 'AMPA DEL IES ALDEBARAN DE ALCOBENDAS', 'ASOC MADRES Y PADRES ALUMNOS CP SEIS DIC', 'ASOC -AMPA- DE GREENWICH SCHOOL', 'AMPA DEL I.E.S. GINER DE LOS RIOS ALCOBE', 'FEDERACION DE ASOCIACIONES DE PADRES DE ALUMNOS DE', 'AMPA COLEGIO SAN ANTONIO DE ALCOBENDAS', 'ASOC PADRES ALUMNADO COL JUAN XXIII ALCO', 'APA IES SEVERO OCHOA', 'AMPA ESCUELA INFANTIL LA CHOPERA'])\n",
      "dict_values([1075.0, 2480.4, 2389.25, 2990.0, 3050.11, 3355.12, 3558.46, 4371.82, 2000.0, 3507.63, 2897.6, 2950.0, 2694.26, 1075.0, 3304.28, 3558.46, 2541.76, 3887.0, 3405.95, 2300.0, 1474.22, 3863.47, 1713.11])\n"
     ]
    }
   ],
   "source": [
    "with xlrd.open_workbook(os.path.join(root_dir,'data','raw','subvenciones.xls')) as libro:\n",
    "    asocs ={}\n",
    "    for hoja in libro.sheets():\n",
    "        for i in range(1,hoja.nrows):\n",
    "            fila = hoja.row(i)\n",
    "            asoc = fila[0].value\n",
    "            subvencion = fila[2].value\n",
    "            if asoc in asocs:\n",
    "                asocs[asoc]= asocs[asoc] + subvencion\n",
    "            else:\n",
    "                asocs[asoc] = subvencion\n",
    "print(asocs.keys())\n",
    "print(asocs.values())\n",
    "\n"
   ]
  },
  {
   "cell_type": "code",
   "execution_count": 74,
   "metadata": {},
   "outputs": [
    {
     "name": "stdout",
     "output_type": "stream",
     "text": [
      "Asociaciones:  dict_keys(['ASOC PADRES Y MADRES ESC I \"EL CUQUILLO\"', 'AMPA CEIP PUBLICO ANTONIO MACHADO ALCOBE', 'ASOC CATOLICA PAD Y MAD DEL PADRE MANYAN', 'AMPA CEIP LUIS BUÑUEL DE ALCOBENDAS', 'AMPA COL PUB FEDERICO GARCIA LORCA ALCOBENDAS', 'APA DEL COL NAL EMILIO CASADO', 'AMPA DEL CEIP DAOIZ Y VELARDE DE ALCOBEN', 'APA C P VALDEPALITOS DE ALCOBENDAS', 'A.M.P.A. C.P. BACHILLER ALONSO LOPEZ', 'AMPA C.E.I.P. MIGUEL HERNANDEZ', 'AMPA DEL COLEGIO PUBLICO PARQUE CATALUÑA', 'AMPA DEL COLEGIO PUBLICO MIRAFLORES', 'AMPA I.E.S. AGORA', 'APAESCUELA INFANTIL VALDELAPARRA ALCOBE', 'AMPA DEL IES ALDEBARAN DE ALCOBENDAS', 'ASOC MADRES Y PADRES ALUMNOS CP SEIS DIC', 'ASOC -AMPA- DE GREENWICH SCHOOL', 'AMPA DEL I.E.S. GINER DE LOS RIOS ALCOBE', 'FEDERACION DE ASOCIACIONES DE PADRES DE ALUMNOS DE', 'AMPA COLEGIO SAN ANTONIO DE ALCOBENDAS', 'ASOC PADRES ALUMNADO COL JUAN XXIII ALCO', 'APA IES SEVERO OCHOA', 'AMPA ESCUELA INFANTIL LA CHOPERA'])\n",
      "Subvenciones:  dict_values([1075.0, 2480.4, 2389.25, 2990.0, 3050.11, 3355.12, 3558.46, 4371.82, 2000.0, 3507.63, 2897.6, 2950.0, 2694.26, 1075.0, 3304.28, 3558.46, 2541.76, 3887.0, 3405.95, 2300.0, 1474.22, 3863.47, 1713.11])\n"
     ]
    }
   ],
   "source": [
    "with xlrd.open_workbook(os.path.join(root_dir,'data','raw','subvenciones.xls')) as libro_lect:\n",
    "    asocs = {}\n",
    "    libro_escr = xlwt.Workbook()\n",
    "    for nombre in libro_lect.sheet_names():\n",
    "    # se crea una hoja se lee la y se agrega en el libro escritura la informacion que se va a leer\n",
    "        hoja_lect = libro_lect.sheet_by_name(nombre)\n",
    "        hoja_escr = libro_escr.add_sheet(nombre)\n",
    "        for i in range(hoja_lect.nrows):\n",
    "            for j in range(hoja_lect.ncols):\n",
    "                valor = hoja_lect.cell(i,j).value\n",
    "                hoja_escr.write(i,j,valor)\n",
    "            if i!= 0:\n",
    "                fila = hoja_lect.row(i)\n",
    "                centro = fila[0].value\n",
    "                sub = fila[2].value\n",
    "                if centro in asocs:\n",
    "                     asocs[centro] = asocs[centro] + sub\n",
    "                else:\n",
    "                     asocs[centro] = sub\n",
    "print('Asociaciones: ',asocs.keys())\n",
    "print('Subvenciones: ',asocs.values())\n"
   ]
  },
  {
   "cell_type": "code",
   "execution_count": 75,
   "metadata": {},
   "outputs": [],
   "source": [
    "# se escribira en la segunda hoja\n",
    "hoja_escr = libro_escr.add_sheet('Totales')\n",
    "hoja_escr.write(0, 0, \"Asociaciones\")\n",
    "hoja_escr.write(0, 1, \"Importe total\")\n",
    "hoja_escr.write(0, 2, \"Importe Justificado\")\n",
    "hoja_escr.write(0, 3, \"Restante\")\n"
   ]
  },
  {
   "cell_type": "code",
   "execution_count": 76,
   "metadata": {},
   "outputs": [],
   "source": [
    "#recorreremos la hoja con indice, el diccionario. como ya se escribio la cabecera se debe sumar 1 al indice\n",
    "for i, clave in enumerate(asocs):\n",
    "    fila = i + 1\n",
    "    hoja_escr.write(fila, 0, clave)\n",
    "    hoja_escr.write(fila, 1, asocs[clave])\n",
    "    hoja_escr.write(fila, 2, 0)\n",
    "    #fia de la formula\n",
    "    fila_form = i + 2\n",
    "    fform_str = str(fila_form)\n",
    "    form = \"C\" + fform_str + \"-B\" + fform_str\n",
    "    hoja_escr.write(fila,3,xlwt.Formula(form))\n",
    "    "
   ]
  },
  {
   "cell_type": "code",
   "execution_count": 77,
   "metadata": {},
   "outputs": [],
   "source": [
    "#Guardamos el libro\n",
    "libro_escr.save(os.path.join(root_dir,'data','raw','Libro_Resultado.xls'))"
   ]
  },
  {
   "cell_type": "code",
   "execution_count": 78,
   "metadata": {},
   "outputs": [
    {
     "name": "stderr",
     "output_type": "stream",
     "text": [
      "C:\\Users\\ADRIA\\AppData\\Local\\Temp\\ipykernel_21208\\3956581476.py:6: FutureWarning: As the xlwt package is no longer maintained, the xlwt engine will be removed in a future version of pandas. This is the only engine in pandas that supports writing in the xls format. Install openpyxl and write to an xlsx file instead. You can set the option io.excel.xls.writer to 'xlwt' to silence this warning. While this option is deprecated and will also raise a warning, it can be globally set and the warning suppressed.\n",
      "  escritor = pd.ExcelWriter(os.path.join(root_dir,'data','raw','Libro_Resultado_2.xls'))\n",
      "C:\\Users\\ADRIA\\AppData\\Local\\Temp\\ipykernel_21208\\3956581476.py:10: FutureWarning: save is not part of the public API, usage can give unexpected results and will be removed in a future version\n",
      "  escritor.save()\n"
     ]
    }
   ],
   "source": [
    "# Con pandas\n",
    "\n",
    "import pandas as pd\n",
    "\n",
    "with pd.ExcelFile(os.path.join(root_dir,'data','raw',\"subvenciones.xls\")) as xl:\n",
    "    escritor = pd.ExcelWriter(os.path.join(root_dir,'data','raw','Libro_Resultado_2.xls'))\n",
    "    for nombre in xl.sheet_names:\n",
    "        df = xl.parse(nombre)\n",
    "        df.to_excel(escritor,nombre)\n",
    "    escritor.save()"
   ]
  },
  {
   "attachments": {},
   "cell_type": "markdown",
   "metadata": {},
   "source": [
    "## Manipulando archivos JSON"
   ]
  },
  {
   "cell_type": "code",
   "execution_count": 79,
   "metadata": {},
   "outputs": [],
   "source": [
    "import json"
   ]
  },
  {
   "cell_type": "code",
   "execution_count": 84,
   "metadata": {},
   "outputs": [
    {
     "name": "stdout",
     "output_type": "stream",
     "text": [
      "[{'Asociación': 'AMPA ANTONIO MACHADO', 'Actividades': [{'Actividad Subvencionada': 'TALLER FIESTA DE CARNAVAL', 'Importe en euros': '94.56'}, {'Actividad Subvencionada': 'TALLER DIA DEL PADRE', 'Importe en euros': '39.04 '}, {'Actividad Subvencionada': 'TALLER DIA DE LA MADRE', 'Importe en euros': '43.64 '}, {'Actividad Subvencionada': 'FIESTA FIN DE CURSO', 'Importe en euros': '921.00 '}, {'Actividad Subvencionada': 'CONCURSO LOGOTIPO AMPA', 'Importe en euros': '56.57 '}, {'Actividad Subvencionada': 'ASOCIACION FAPA ALCOBENDAS', 'Importe en euros': '80.00 '}, {'Actividad Subvencionada': 'ASOCIACION FAPA GINER DE LOS RIOS', 'Importe en euros': '86.79 '}, {'Actividad Subvencionada': 'FIESTA DE NAVIDAD', 'Importe en euros': '660.00 '}, {'Actividad Subvencionada': 'HALLOWEEN', 'Importe en euros': '168.39 '}, {'Actividad Subvencionada': 'SAN ISIDRO', 'Importe en euros': '195.00 '}]}, {'Asociación': 'AMPA BACHILLER ALONSO LOPEZ', 'Actividades': [{'Actividad Subvencionada': 'MATEMATICAS MANIPULATIVAS', 'Importe en euros': '480.00 '}, {'Actividad Subvencionada': 'PROYECTO DE INGLES', 'Importe en euros': '480.00 '}, {'Actividad Subvencionada': 'EXCURSIONES PRIMARIA', 'Importe en euros': '928.00 '}, {'Actividad Subvencionada': 'GRADUACIÓN INFANTIL', 'Importe en euros': '360.00 '}, {'Actividad Subvencionada': 'GRADUACIÓN 6 PRIM', 'Importe en euros': '240.00 '}, {'Actividad Subvencionada': 'REVISTA COLEGIO ENTRETIZAS', 'Importe en euros': '220.00 '}, {'Actividad Subvencionada': 'FIESTA INTERCULTURAL', 'Importe en euros': '492.00 '}]}, {'Asociación': 'AMPA CASTILLA', 'Actividades': [{'Actividad Subvencionada': 'CONCURSO TARJETAS NAVIDEÑAS', 'Importe en euros': '124.00 '}, {'Actividad Subvencionada': 'TALLER COMO MEJORAR LA AUTOESTIMA DE NUESTROS HIJOS', 'Importe en euros': '160.00 '}, {'Actividad Subvencionada': 'FIESTA FIN DE CURSO', 'Importe en euros': '840.00 '}, {'Actividad Subvencionada': 'PROPUESTA DE ACTIV EXTRAESCOLARES,INSCRIPCIONES. INTERCAMBIO LIBROS', 'Importe en euros': '150.00'}, {'Actividad Subvencionada': 'FEDERACION', 'Importe en euros': '64.00 '}, {'Actividad Subvencionada': 'FIESTA REYES MAGOS', 'Importe en euros': '460.00 '}, {'Actividad Subvencionada': 'CHOCOLATADA', 'Importe en euros': '336.00 '}, {'Actividad Subvencionada': 'SAN ISIDRO', 'Importe en euros': '163.00 '}, {'Actividad Subvencionada': 'HALLOWEEN', 'Importe en euros': '160.00 '}, {'Actividad Subvencionada': 'CARNAVAL EN LA AULAS', 'Importe en euros': '147.44 '}]}, {'Asociación': 'AMPA DAOIZ Y VELARDE', 'Actividades': [{'Actividad Subvencionada': 'PLAN LECTOR', 'Importe en euros': '370.00 '}, {'Actividad Subvencionada': 'CONCIERTO MUSICA DIVERTIDA', 'Importe en euros': '575.74 '}, {'Actividad Subvencionada': 'TALLER HABILIDADES SOCIALES O TECNICAS DE ESTUDIO', 'Importe en euros': '220.00 '}, {'Actividad Subvencionada': 'FIESTA FIN DE CURSO', 'Importe en euros': '600.00 '}, {'Actividad Subvencionada': 'GRADUACIONES INFANTIL Y SEXTO', 'Importe en euros': '160.00 '}, {'Actividad Subvencionada': 'AGENDAS', 'Importe en euros': '340.00 '}, {'Actividad Subvencionada': 'EXPOSICION FOTOGRAFICA', 'Importe en euros': '198.00 '}, {'Actividad Subvencionada': 'NAVIDAD', 'Importe en euros': '689.00 '}]}, {'Asociación': 'AMPA EMILIO CASADO', 'Actividades': [{'Actividad Subvencionada': 'DIA DE LA MUSICA', 'Importe en euros': '295.67 '}, {'Actividad Subvencionada': 'SALIDA CULTURAL AL TEATRO', 'Importe en euros': '196.00 '}, {'Actividad Subvencionada': 'FESTIVAL FIN DE CURSO', 'Importe en euros': '247.00 '}, {'Actividad Subvencionada': 'FIESTA FIN DE CURSO', 'Importe en euros': '1.000.00 '}, {'Actividad Subvencionada': 'ASOCIACION FAPA GINER DE LOS RIOS', 'Importe en euros': '175.00 '}, {'Actividad Subvencionada': 'ASOCIACION FAPA ALCOBENDAS', 'Importe en euros': '77.00 '}, {'Actividad Subvencionada': 'FIESTA NAVIDAD', 'Importe en euros': '850.00 '}, {'Actividad Subvencionada': 'INTERCENTROS ATLETISMO', 'Importe en euros': '175.00 '}]}, {'Asociación': 'AMPA FEDERICO GARCIA LORCA', 'Actividades': [{'Actividad Subvencionada': 'DIA DEL LIBRO', 'Importe en euros': '1.400.00 '}, {'Actividad Subvencionada': 'TALLERES DE HALLOWEEN Y ADORNOS NAVIDAD', 'Importe en euros': '85.00 '}, {'Actividad Subvencionada': 'FIESTA FIN DE CURSO', 'Importe en euros': '434.06 '}]}, {'Asociación': 'AMPA GABRIEL Y GALAN', 'Actividades': [{'Actividad Subvencionada': 'EXCURSIONES', 'Importe en euros': '1.151.51 '}, {'Actividad Subvencionada': 'HUERTO ESCOLAR', 'Importe en euros': '80.00 '}, {'Actividad Subvencionada': 'CUENTACUENTOS', 'Importe en euros': '200.00 '}, {'Actividad Subvencionada': 'TALLER NAVIDEÑO', 'Importe en euros': '120.00 '}, {'Actividad Subvencionada': 'FIESTA FIN DE CURSO', 'Importe en euros': '480.00 '}, {'Actividad Subvencionada': 'PERIODICO', 'Importe en euros': '160.00 '}, {'Actividad Subvencionada': 'CARNAVAL', 'Importe en euros': '350.00 '}, {'Actividad Subvencionada': 'SAN ISIDRO', 'Importe en euros': '200.00 '}]}, {'Asociación': 'AMPA LUIS BUÑUEL', 'Actividades': [{'Actividad Subvencionada': 'CONCURSO FELICITACIONES DE NAVIDAD', 'Importe en euros': '90.00 '}, {'Actividad Subvencionada': 'MERCADILLO NAVIDEÑO', 'Importe en euros': '90.00 '}, {'Actividad Subvencionada': 'GRADUACION', 'Importe en euros': '440.00 '}, {'Actividad Subvencionada': 'FIESTA FIN DE CURSO', 'Importe en euros': '55.00 '}, {'Actividad Subvencionada': 'PARTICIPACION FAPA ALCOBENDAS Y FAPA GINER DE LOS RIOS', 'Importe en euros': '227.00 '}, {'Actividad Subvencionada': 'FIESTA NAVIDAD', 'Importe en euros': '625.00 '}, {'Actividad Subvencionada': 'SAN ISIDRO', 'Importe en euros': '200.00 '}, {'Actividad Subvencionada': 'FIESTA DE HALLOWEEN', 'Importe en euros': '80.00 '}, {'Actividad Subvencionada': 'CASTAÑADA', 'Importe en euros': '65.00 '}, {'Actividad Subvencionada': 'CARNAVAL EN LAS AULAS: MERCADILLO MEDIEVAL', 'Importe en euros': '209.00 '}]}, {'Asociación': 'AMPA MIGUEL HERNANDEZ', 'Actividades': [{'Actividad Subvencionada': 'CERTAMEN LITERARIO Y DE DIBUJO', 'Importe en euros': '300.00 '}, {'Actividad Subvencionada': 'SEMANA CULTURAL', 'Importe en euros': '153.00 '}, {'Actividad Subvencionada': 'EXCURSION A MADRID', 'Importe en euros': '504.00 '}, {'Actividad Subvencionada': 'EXCURSION A SIERRA DE GUADARRAMA', 'Importe en euros': '293.00 '}, {'Actividad Subvencionada': 'CONCURSO DE TARJETAS NAVIDEÑAS', 'Importe en euros': '150.00 '}, {'Actividad Subvencionada': 'PARTICIPACION FESTIVAL FAPA', 'Importe en euros': '12.00 '}, {'Actividad Subvencionada': 'FESTIVAL FIN CURSO', 'Importe en euros': '287.00 '}, {'Actividad Subvencionada': 'ENTREGA DE ORLAS 3º INFANTIL', 'Importe en euros': '100.00 '}, {'Actividad Subvencionada': 'PARTICIPACION EN FEDERACIONES', 'Importe en euros': '80.00 '}, {'Actividad Subvencionada': 'VISITA REYES MAGOS', 'Importe en euros': '530.00 '}, {'Actividad Subvencionada': 'FIESTA NAVIDAD', 'Importe en euros': '475.00 '}, {'Actividad Subvencionada': 'TORNEOS DEPORTIVOS', 'Importe en euros': '39.35 '}]}, {'Asociación': 'AMPA MIRAFLORES', 'Actividades': [{'Actividad Subvencionada': 'SALIDA CULTURAL SAFARI', 'Importe en euros': '1.500.00 '}, {'Actividad Subvencionada': 'FIESTA FIN DE CURSO', 'Importe en euros': '560.00 '}, {'Actividad Subvencionada': 'CUENTOS EN MIRAFLORES', 'Importe en euros': '400.00 '}, {'Actividad Subvencionada': 'FIESTA DE NAVIDAD', 'Importe en euros': '327.21 '}]}, {'Asociación': 'AMPA PARQUE CATALUÑA', 'Actividades': [{'Actividad Subvencionada': 'CONCURSO DE TARJETAS NAVIDEÑAS', 'Importe en euros': '290.00 '}, {'Actividad Subvencionada': 'FUTBOL', 'Importe en euros': '95.00 '}, {'Actividad Subvencionada': 'MULTIDEPORTE', 'Importe en euros': '400.00 '}, {'Actividad Subvencionada': 'GRADUACIÓN', 'Importe en euros': '130.00 '}, {'Actividad Subvencionada': 'FIESTA FIN DE CURSO', 'Importe en euros': '995.00 '}, {'Actividad Subvencionada': 'PARTICIPACIÓN FAPA', 'Importe en euros': '64.00 '}, {'Actividad Subvencionada': 'NAVIDAD', 'Importe en euros': '455.00 '}, {'Actividad Subvencionada': 'DIA DEL LIBRO', 'Importe en euros': '175.44 '}]}, {'Asociación': 'AMPA PROFESOR TIERNO GALVÁN', 'Actividades': [{'Actividad Subvencionada': 'FIESTA FIN DE CURSO', 'Importe en euros': '300.00 '}, {'Actividad Subvencionada': 'FAPA', 'Importe en euros': '80.00 '}, {'Actividad Subvencionada': 'DIA DEL LIBRO', 'Importe en euros': '306.00 '}, {'Actividad Subvencionada': 'DIA DE SAN ISIDRO', 'Importe en euros': '100.00 '}, {'Actividad Subvencionada': 'CONCURSO DE CHRISTMAS', 'Importe en euros': '250.00 '}, {'Actividad Subvencionada': 'FIESTA NAVIDAD', 'Importe en euros': '250.00 '}]}, {'Asociación': 'AMPA SEIS DE DICIEMBRE', 'Actividades': [{'Actividad Subvencionada': 'EXCURSION GRANJA TALAMANCA', 'Importe en euros': '476.00 '}, {'Actividad Subvencionada': 'NAVIDAD', 'Importe en euros': '320.00 '}, {'Actividad Subvencionada': 'CUENTACUENTOS AMBIENTALES', 'Importe en euros': '280.00 '}, {'Actividad Subvencionada': 'FIN DE CURSO', 'Importe en euros': '256.00 '}, {'Actividad Subvencionada': 'FESTIVAL FIN DE CURSO', 'Importe en euros': '100.00 '}, {'Actividad Subvencionada': 'AGENDA ESCOLAR', 'Importe en euros': '518.00 '}]}, {'Asociación': 'AMPA VALDEPALITOS', 'Actividades': [{'Actividad Subvencionada': 'VISITA MUSEO DEL VIDRIO', 'Importe en euros': '385.50 '}, {'Actividad Subvencionada': 'SALIDAS CULTURALES EN FAMILIA', 'Importe en euros': '490.00 '}, {'Actividad Subvencionada': 'TALLER EXTRAESCOLAR DISFRACES', 'Importe en euros': '190.00 '}, {'Actividad Subvencionada': 'TALLER EXTRAESCOLAR DANZA ESPAÑOLA', 'Importe en euros': '190.00 '}, {'Actividad Subvencionada': 'TALLER EXTRAESCOLAR DANZA MODERNA', 'Importe en euros': '90.00 '}, {'Actividad Subvencionada': 'FIESTA FIN DE CURSO', 'Importe en euros': '690.00 '}, {'Actividad Subvencionada': 'FESTIVAL DANZA Y TEATRO', 'Importe en euros': '210.00 '}, {'Actividad Subvencionada': 'CEREMONIA GRADUACION 6º PRIMARIA', 'Importe en euros': '170.00 '}, {'Actividad Subvencionada': 'ORLA PARA 6º PRIMARIA', 'Importe en euros': '110.00 '}, {'Actividad Subvencionada': 'CEREMONIA GRADUACION INFANTIL', 'Importe en euros': '180.00 '}, {'Actividad Subvencionada': 'BOLETIN APA', 'Importe en euros': '260.00 '}, {'Actividad Subvencionada': 'PARTICIPACION FAPA ALCOBENDAS', 'Importe en euros': '64.00 '}, {'Actividad Subvencionada': 'PARTICIPACION FESTIVAL FAPA', 'Importe en euros': '260.00 '}, {'Actividad Subvencionada': 'PARTICIPACION FAPA GINER DE LOS RIOS', 'Importe en euros': '160.00 '}, {'Actividad Subvencionada': 'FIESTA DE NAVIDAD', 'Importe en euros': '180.00 '}, {'Actividad Subvencionada': 'TORNEO MULTIDEPORTE', 'Importe en euros': '120.00 '}, {'Actividad Subvencionada': 'SEMANA CULTURAL', 'Importe en euros': '180.00 '}]}, {'Asociación': 'AMPA LA CHOPERA', 'Actividades': [{'Actividad Subvencionada': 'SEMANA DEL LIBRO', 'Importe en euros': '990.00 '}, {'Actividad Subvencionada': 'TALLER DE MUSICA', 'Importe en euros': '120.00 '}, {'Actividad Subvencionada': 'FIESTA GRADUACION', 'Importe en euros': '320.00 '}]}, {'Asociación': 'AMPA EL CUQUILLO', 'Actividades': [{'Actividad Subvencionada': 'SEMANA DEL LIBRO', 'Importe en euros': '610.00 '}, {'Actividad Subvencionada': 'DIA DE LA INFANCIA', 'Importe en euros': '150.00 '}, {'Actividad Subvencionada': 'FIESTA FIN DE CURSO Y GRADUACION', 'Importe en euros': '368.00 '}, {'Actividad Subvencionada': 'FIESTA NAVIDAD', 'Importe en euros': '379.83 '}]}, {'Asociación': 'AMPA VALDELAPARRA', 'Actividades': [{'Actividad Subvencionada': 'SEMANA DEL LIBRO Y FERIA DEL LIBRO', 'Importe en euros': '685.00 '}, {'Actividad Subvencionada': 'EL HUERTO', 'Importe en euros': '70.00 '}, {'Actividad Subvencionada': 'TALLER DEL NIDO', 'Importe en euros': '95.00 '}, {'Actividad Subvencionada': 'FIESTA GRADUACION', 'Importe en euros': '670.00 '}, {'Actividad Subvencionada': 'QUERIDOS REYES MAGOS', 'Importe en euros': '590.00 '}, {'Actividad Subvencionada': 'FERIA DE LAS ASOCIACIONES', 'Importe en euros': '150.00 '}, {'Actividad Subvencionada': 'SAN ISIDRO', 'Importe en euros': '205.00 '}]}, {'Asociación': 'AMPA RIVENDEL', 'Actividades': [{'Actividad Subvencionada': 'DIA DE LA PAZ', 'Importe en euros': '230.00 '}, {'Actividad Subvencionada': 'SEMANA CULTURAL Y DIA DEL LIBRO', 'Importe en euros': '794.00 '}, {'Actividad Subvencionada': 'VISITA GRANJA ESCUELA', 'Importe en euros': '115.00 '}, {'Actividad Subvencionada': 'FIESTA FIN DE CURSO', 'Importe en euros': '700.00 '}, {'Actividad Subvencionada': 'PERTENENCIA A LA FAPA', 'Importe en euros': '64.00 '}, {'Actividad Subvencionada': 'CARNAVAL', 'Importe en euros': '157.00 '}, {'Actividad Subvencionada': 'BELEN NAVIDEÑO', 'Importe en euros': '40.00 '}, {'Actividad Subvencionada': 'FIESTA DE NAVIDAD', 'Importe en euros': '100.00 '}]}, {'Asociación': 'AMPA AGORA', 'Actividades': [{'Actividad Subvencionada': 'PREMIOS AL RENDIMIENTO. SUPERACIÓN Y CONVICENCIA', 'Importe en euros': '501.67 '}, {'Actividad Subvencionada': 'ANIMACION A LA LECTURA', 'Importe en euros': '560.00 '}, {'Actividad Subvencionada': 'SALIDA AL TEATRO', 'Importe en euros': '240.00 '}, {'Actividad Subvencionada': 'EXCURSION CULTURAL VISITA CORRALAS DE MADRID', 'Importe en euros': '120.00 '}, {'Actividad Subvencionada': 'CONCURSO FOTOGRAFICO CONSTITUCION', 'Importe en euros': '160.00 '}, {'Actividad Subvencionada': 'ACTO DE GRADUACIÓN', 'Importe en euros': '300.00 '}, {'Actividad Subvencionada': 'INTERCAMBIO DE LIBROS DE TEXTO', 'Importe en euros': '80.00 '}, {'Actividad Subvencionada': 'JORNADA DE CONVIVENCIA', 'Importe en euros': '250.00 '}, {'Actividad Subvencionada': 'MILLA ESCOLAR', 'Importe en euros': '210.00 '}]}, {'Asociación': 'AMPA ALDEBARAN', 'Actividades': [{'Actividad Subvencionada': 'PREMIOS AL RENDIMIENTO. SUPERACIÓN Y CONVIVENCIA', 'Importe en euros': '980.05 '}, {'Actividad Subvencionada': 'ANIMACION A LA LECTURA', 'Importe en euros': '302.00 '}, {'Actividad Subvencionada': 'PRACTICANDO IDIOMAS', 'Importe en euros': '278.00 '}, {'Actividad Subvencionada': 'CONCURSO DE TARJETAS NAVIDEÑAS', 'Importe en euros': '190.00 '}, {'Actividad Subvencionada': 'GRADUACION ALUMNOS BACHILLER', 'Importe en euros': '220.00 '}, {'Actividad Subvencionada': 'BOLETIN INFORMATIVO', 'Importe en euros': '587.00 '}, {'Actividad Subvencionada': 'PARTICIPACION EN FAPAS', 'Importe en euros': '260.00 '}, {'Actividad Subvencionada': 'TALLER CHAPAS E IMANES', 'Importe en euros': '290.00 '}]}, {'Asociación': 'AMPA GINER DE LOS RIOS', 'Actividades': [{'Actividad Subvencionada': 'CERTAMEN TARJETA NAVIDAD', 'Importe en euros': '673.00 '}, {'Actividad Subvencionada': 'CERTAMEN DE RELATO Y POESIA', 'Importe en euros': '320.00 '}, {'Actividad Subvencionada': 'CERTAMEN RECREANDO EL JARDIN DEL GINER', 'Importe en euros': '160.00 '}, {'Actividad Subvencionada': 'CERTAMEN ENSAYO FILOSOFICO RAQUEL PUSZKIN', 'Importe en euros': '120.00 '}, {'Actividad Subvencionada': 'CEREMONIA GRADUACION BACHILLERATO', 'Importe en euros': '270.00 '}, {'Actividad Subvencionada': 'LIBRO DE RELATO Y POESIAS LA PLUMA LITERARIA', 'Importe en euros': '290.00 '}, {'Actividad Subvencionada': 'PARTICIPACION FAPA ALCOBENDAS Y FAPA MADRID', 'Importe en euros': '225.00 '}]}, {'Asociación': 'AMPA SEVERO OCHOA', 'Actividades': [{'Actividad Subvencionada': 'TALLER DE MOTIVACION Y AUTOESTIMA', 'Importe en euros': '981.97 '}, {'Actividad Subvencionada': 'TALLER DE TECNICAS DE ESTUDIO', 'Importe en euros': '600.00 '}, {'Actividad Subvencionada': 'CONFERENCIA COLOQUIO SOBRE PREVENCION DEL FRACASO ESCOLAR', 'Importe en euros': '450.00 '}, {'Actividad Subvencionada': 'EXPOSICION Y EDICION ALBUM FOTOGRAFICO INTERCAMBIO EEUU', 'Importe en euros': '340.00 '}, {'Actividad Subvencionada': 'EXCURSION FIN DE CURO A PARQUE ECO-AVENTURA', 'Importe en euros': '480.00 '}, {'Actividad Subvencionada': 'GRADUACION CICLOS Y BACHILLERATOS', 'Importe en euros': '240.00 '}, {'Actividad Subvencionada': 'FERIA DE ASOCIACIONES DE ALCOBENDAS', 'Importe en euros': '40.00 '}, {'Actividad Subvencionada': 'PERTENENCIA A FAPA ALCOBENDAS', 'Importe en euros': '64.00 '}, {'Actividad Subvencionada': 'TORNEO DE AJEDREZ', 'Importe en euros': '48.00 '}, {'Actividad Subvencionada': 'FIESTA DE NAVIDAD', 'Importe en euros': '320.00 '}]}, {'Asociación': 'AMPA VIRGEN DE LA PAZ', 'Actividades': [{'Actividad Subvencionada': 'JORNADA LUDICO DEPORTIVA FIN DE CURSO', 'Importe en euros': '927.45 '}, {'Actividad Subvencionada': 'PARTICIPACION FAPA ALCOBENDAS Y GINER DE LOS RIOS', 'Importe en euros': '176.00 '}, {'Actividad Subvencionada': 'ACTO DE GRADUACIÓN', 'Importe en euros': '121.00 '}, {'Actividad Subvencionada': 'PARTICIPACION EN FERIA DE LAS ASOCIACIONES', 'Importe en euros': '40.00 '}, {'Actividad Subvencionada': 'TORNEO DEPORTIVO FUTBOL SALA', 'Importe en euros': '152.00 '}]}, {'Asociación': 'AMPA JUAN XXIII', 'Actividades': [{'Actividad Subvencionada': 'TALLER DE MANUALIDADES', 'Importe en euros': '800.00 '}, {'Actividad Subvencionada': 'TALLER DE JUEGOS DIDACTICOS', 'Importe en euros': '448.00 '}, {'Actividad Subvencionada': 'TALLER DE MAGIA', 'Importe en euros': '533.98 '}]}, {'Asociación': 'AMPA SAN ANTONIO', 'Actividades': [{'Actividad Subvencionada': 'GRANJA ESCUELA', 'Importe en euros': '895.00 '}, {'Actividad Subvencionada': 'VISITA AL PARQUE DE AVENTURAS AMAZONIA', 'Importe en euros': '576.00 '}, {'Actividad Subvencionada': 'ASISTENCIA AL CIRCO MUNDIAL', 'Importe en euros': '630.83 '}]}, {'Asociación': 'AMPA PADRE  MANYANET', 'Actividades': [{'Actividad Subvencionada': 'FERIA DE LA SEMANA CULTURAL', 'Importe en euros': '800.00 '}, {'Actividad Subvencionada': 'BIBLIOTECA DE EDUCACION PRIMARIA DE LA APA', 'Importe en euros': '803.82 '}, {'Actividad Subvencionada': 'FERIA DE ROBOTICA', 'Importe en euros': '720.00 '}, {'Actividad Subvencionada': 'LUDOTECA FIESTA FIN DE CURSO', 'Importe en euros': '372.00 '}]}]\n",
      "[{'Asociación': 'AMPA ANTONIO MACHADO', 'Actividades': [{'Actividad Subvencionada': 'TALLER FIESTA DE CARNAVAL', 'Importe en euros': '94.56'}]}, {'Asociación': 'AMPA BACHILLER ALONSO LOPEZ', 'Actividades': [{'Actividad Subvencionada': 'MATEMATICAS MANIPULATIVAS', 'Importe en euros': '480.00 '}]}, {'Asociación': 'AMPA CASTILLA', 'Actividades': [{'Actividad Subvencionada': 'CONCURSO TARJETAS NAVIDEÑAS', 'Importe en euros': '124.00 '}]}, {'Asociación': 'AMPA DAOIZ Y VELARDE', 'Actividades': [{'Actividad Subvencionada': 'PLAN LECTOR', 'Importe en euros': '370.00 '}]}, {'Asociación': 'AMPA EMILIO CASADO', 'Actividades': [{'Actividad Subvencionada': 'DIA DE LA MUSICA', 'Importe en euros': '295.67 '}]}, {'Asociación': 'AMPA FEDERICO GARCIA LORCA', 'Actividades': [{'Actividad Subvencionada': 'DIA DEL LIBRO', 'Importe en euros': '1.400.00 '}]}, {'Asociación': 'AMPA GABRIEL Y GALAN', 'Actividades': [{'Actividad Subvencionada': 'EXCURSIONES', 'Importe en euros': '1.151.51 '}]}, {'Asociación': 'AMPA LUIS BUÑUEL', 'Actividades': [{'Actividad Subvencionada': 'CONCURSO FELICITACIONES DE NAVIDAD', 'Importe en euros': '90.00 '}]}, {'Asociación': 'AMPA MIGUEL HERNANDEZ', 'Actividades': [{'Actividad Subvencionada': 'CERTAMEN LITERARIO Y DE DIBUJO', 'Importe en euros': '300.00 '}]}, {'Asociación': 'AMPA MIRAFLORES', 'Actividades': [{'Actividad Subvencionada': 'SALIDA CULTURAL SAFARI', 'Importe en euros': '1.500.00 '}]}, {'Asociación': 'AMPA PARQUE CATALUÑA', 'Actividades': [{'Actividad Subvencionada': 'CONCURSO DE TARJETAS NAVIDEÑAS', 'Importe en euros': '290.00 '}]}, {'Asociación': 'AMPA PROFESOR TIERNO GALVÁN', 'Actividades': [{'Actividad Subvencionada': 'FIESTA FIN DE CURSO', 'Importe en euros': '300.00 '}]}, {'Asociación': 'AMPA SEIS DE DICIEMBRE', 'Actividades': [{'Actividad Subvencionada': 'EXCURSION GRANJA TALAMANCA', 'Importe en euros': '476.00 '}]}, {'Asociación': 'AMPA VALDEPALITOS', 'Actividades': [{'Actividad Subvencionada': 'VISITA MUSEO DEL VIDRIO', 'Importe en euros': '385.50 '}]}, {'Asociación': 'AMPA LA CHOPERA', 'Actividades': [{'Actividad Subvencionada': 'SEMANA DEL LIBRO', 'Importe en euros': '990.00 '}]}, {'Asociación': 'AMPA EL CUQUILLO', 'Actividades': [{'Actividad Subvencionada': 'SEMANA DEL LIBRO', 'Importe en euros': '610.00 '}]}, {'Asociación': 'AMPA VALDELAPARRA', 'Actividades': [{'Actividad Subvencionada': 'SEMANA DEL LIBRO Y FERIA DEL LIBRO', 'Importe en euros': '685.00 '}]}, {'Asociación': 'AMPA RIVENDEL', 'Actividades': [{'Actividad Subvencionada': 'DIA DE LA PAZ', 'Importe en euros': '230.00 '}]}, {'Asociación': 'AMPA AGORA', 'Actividades': [{'Actividad Subvencionada': 'PREMIOS AL RENDIMIENTO. SUPERACIÓN Y CONVICENCIA', 'Importe en euros': '501.67 '}]}, {'Asociación': 'AMPA ALDEBARAN', 'Actividades': [{'Actividad Subvencionada': 'PREMIOS AL RENDIMIENTO. SUPERACIÓN Y CONVIVENCIA', 'Importe en euros': '980.05 '}]}, {'Asociación': 'AMPA GINER DE LOS RIOS', 'Actividades': [{'Actividad Subvencionada': 'CERTAMEN TARJETA NAVIDAD', 'Importe en euros': '673.00 '}]}, {'Asociación': 'AMPA SEVERO OCHOA', 'Actividades': [{'Actividad Subvencionada': 'TALLER DE MOTIVACION Y AUTOESTIMA', 'Importe en euros': '981.97 '}]}, {'Asociación': 'AMPA VIRGEN DE LA PAZ', 'Actividades': [{'Actividad Subvencionada': 'JORNADA LUDICO DEPORTIVA FIN DE CURSO', 'Importe en euros': '927.45 '}]}, {'Asociación': 'AMPA JUAN XXIII', 'Actividades': [{'Actividad Subvencionada': 'TALLER DE MANUALIDADES', 'Importe en euros': '800.00 '}]}, {'Asociación': 'AMPA SAN ANTONIO', 'Actividades': [{'Actividad Subvencionada': 'GRANJA ESCUELA', 'Importe en euros': '895.00 '}]}, {'Asociación': 'AMPA PADRE  MANYANET'}]\n"
     ]
    }
   ],
   "source": [
    "with open(os.path.join(root_dir,'data','raw','subvenciones_agrupadas.json'), encoding='utf-8') as fich_lect, open(os.path.join(root_dir,'data','raw','subvenciones_resultado.json'),'w',encoding='utf-8') as fich_escr:\n",
    "    datos= json.load(fich_lect)\n",
    "    print(datos)\n",
    "    asoc_str = \"Asociación\"\n",
    "    act_str = \"Actividad Subvencionada\"\n",
    "    imp_str = \"Importe en euros\"\n",
    "    lista = []\n",
    "    list_act = []\n",
    "    asoc_actual = \"\"\n",
    "    dicc = {}\n",
    "    for elem in datos:\n",
    "        #print(elem[\"Actividades\"][0][\"Actividad Subvencionada\"])\n",
    "        asoc = elem[asoc_str]\n",
    "        act = elem[\"Actividades\"][0][\"Actividad Subvencionada\"]\n",
    "        imp = elem[\"Actividades\"][0][\"Importe en euros\"]\n",
    "        if asoc_actual != asoc:\n",
    "            dicc[\"Actividades\"] = list_act\n",
    "            dicc ={\"Asociación\": asoc}\n",
    "            lista.append(dicc)\n",
    "            list_act =[]\n",
    "        list_act.append({act_str : act,\n",
    "                         imp_str: imp})\n",
    "        asoc_act = act\n",
    "    print(lista)\n",
    "    json.dump(lista,fich_escr,ensure_ascii=False, indent=4)"
   ]
  }
 ],
 "metadata": {
  "kernelspec": {
   "display_name": "Python 3",
   "language": "python",
   "name": "python3"
  },
  "language_info": {
   "codemirror_mode": {
    "name": "ipython",
    "version": 3
   },
   "file_extension": ".py",
   "mimetype": "text/x-python",
   "name": "python",
   "nbconvert_exporter": "python",
   "pygments_lexer": "ipython3",
   "version": "3.10.11"
  },
  "orig_nbformat": 4,
  "vscode": {
   "interpreter": {
    "hash": "c0e9d565ec43de7db7f01f8234505eb34ad92dda26447801953c4c7f24bcb69c"
   }
  }
 },
 "nbformat": 4,
 "nbformat_minor": 2
}
